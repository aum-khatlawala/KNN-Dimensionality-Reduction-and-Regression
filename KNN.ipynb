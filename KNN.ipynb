{
 "cells": [
  {
   "cell_type": "markdown",
   "id": "186be3d3",
   "metadata": {},
   "source": [
    "# Assignment 2 - Question 1\n",
    "The objective of this assignment is to get you familiarize with  the  problem  of  `KNN Classifiers`.\n",
    "\n",
    "\n",
    "## Instructions\n",
    "- Do not Use Direct Inbuilt functions for the Task.\n",
    "- Numpy or other math libraries are allowed \n",
    "- Ensure that this notebook runs without errors when the cells are run in sequence.\n",
    "- Do not change the contents of the Given cells. Use new cells to Write your code."
   ]
  },
  {
   "cell_type": "markdown",
   "id": "6f6269f1",
   "metadata": {},
   "source": [
    "Name: Aum Alok Khatlawala <br>\n",
    "Roll Number: 2020113008"
   ]
  },
  {
   "cell_type": "markdown",
   "id": "edeabff5",
   "metadata": {},
   "source": [
    "### Dataset\n",
    "\n",
    "Use the code below to load the Dataset"
   ]
  },
  {
   "cell_type": "code",
   "execution_count": 2,
   "id": "69cac090",
   "metadata": {},
   "outputs": [],
   "source": [
    "import numpy as np\n",
    "import pandas as pd\n",
    "from sklearn.model_selection import train_test_split"
   ]
  },
  {
   "cell_type": "code",
   "execution_count": 3,
   "id": "e0fa6912",
   "metadata": {},
   "outputs": [],
   "source": [
    "#Load data\n",
    "iris = pd.read_csv('Iris.csv')\n",
    "#data cleaning\n",
    "iris.drop(columns=\"Id\",inplace=True)"
   ]
  },
  {
   "cell_type": "code",
   "execution_count": 4,
   "id": "1ca8135b",
   "metadata": {},
   "outputs": [],
   "source": [
    "#features and labels\n",
    "X=iris.iloc[:,0:4].values\n",
    "y=iris.iloc[:,4].values\n",
    "\n",
    "#Train and Test split\n",
    "X_train,X_test,y_train,y_test=train_test_split(X,y,test_size=0.2,random_state=0)"
   ]
  },
  {
   "cell_type": "markdown",
   "id": "d14014cb",
   "metadata": {},
   "source": [
    "Write your Code below for KNN Classifier.<br>\n",
    "Use different values of K and test the accuracies."
   ]
  },
  {
   "cell_type": "code",
   "execution_count": 7,
   "id": "6ca8c19d",
   "metadata": {},
   "outputs": [
    {
     "name": "stdout",
     "output_type": "stream",
     "text": [
      "k = 1 , accuracy = 1.0\n",
      "k = 2 , accuracy = 0.9666666666666667\n",
      "k = 3 , accuracy = 0.9666666666666667\n",
      "k = 4 , accuracy = 1.0\n",
      "k = 5 , accuracy = 0.9666666666666667\n",
      "k = 6 , accuracy = 1.0\n",
      "k = 7 , accuracy = 1.0\n",
      "k = 8 , accuracy = 1.0\n",
      "k = 9 , accuracy = 1.0\n",
      "k = 10 , accuracy = 1.0\n",
      "k = 11 , accuracy = 1.0\n",
      "k = 12 , accuracy = 1.0\n",
      "k = 13 , accuracy = 1.0\n",
      "k = 14 , accuracy = 1.0\n",
      "k = 15 , accuracy = 1.0\n",
      "k = 16 , accuracy = 1.0\n",
      "k = 17 , accuracy = 1.0\n",
      "k = 18 , accuracy = 1.0\n",
      "k = 19 , accuracy = 1.0\n",
      "k = 20 , accuracy = 1.0\n",
      "k = 21 , accuracy = 1.0\n",
      "k = 22 , accuracy = 1.0\n",
      "k = 23 , accuracy = 1.0\n",
      "k = 24 , accuracy = 1.0\n",
      "k = 25 , accuracy = 1.0\n",
      "k = 26 , accuracy = 0.9666666666666667\n",
      "k = 27 , accuracy = 0.9666666666666667\n",
      "k = 28 , accuracy = 0.9666666666666667\n",
      "k = 29 , accuracy = 0.9666666666666667\n",
      "k = 30 , accuracy = 0.9666666666666667\n",
      "k = 31 , accuracy = 0.9333333333333333\n",
      "k = 32 , accuracy = 0.9\n",
      "k = 33 , accuracy = 0.9333333333333333\n",
      "k = 34 , accuracy = 0.9666666666666667\n",
      "k = 35 , accuracy = 0.9333333333333333\n",
      "k = 36 , accuracy = 0.9333333333333333\n",
      "k = 37 , accuracy = 0.9333333333333333\n",
      "k = 38 , accuracy = 0.9333333333333333\n",
      "k = 39 , accuracy = 0.9333333333333333\n",
      "k = 40 , accuracy = 0.9333333333333333\n",
      "k = 41 , accuracy = 0.9333333333333333\n",
      "k = 42 , accuracy = 0.9333333333333333\n",
      "k = 43 , accuracy = 0.9333333333333333\n",
      "k = 44 , accuracy = 0.9333333333333333\n",
      "k = 45 , accuracy = 0.9333333333333333\n",
      "k = 46 , accuracy = 0.9\n",
      "k = 47 , accuracy = 0.9\n",
      "k = 48 , accuracy = 0.8666666666666667\n",
      "k = 49 , accuracy = 0.9\n"
     ]
    },
    {
     "data": {
      "image/png": "[encoded data removed]",
      "text/plain": [
       "<Figure size 432x288 with 1 Axes>"
      ]
     },
     "metadata": {
      "needs_background": "light"
     },
     "output_type": "display_data"
    }
   ],
   "source": [
    "import math\n",
    "from scipy import stats as st\n",
    "import matplotlib.pyplot as plt\n",
    "\n",
    "def knn_classifier(k):\n",
    "    knn_y_labels = []\n",
    "    for i in X_test:\n",
    "        distances = []\n",
    "        for j in X_train:\n",
    "            dist = (i[0] - j[0])*(i[0] - j[0]) + (i[1] - j[1])*(i[1] - j[1]) + (i[2] - j[2])*(i[2] - j[2]) + (i[3] - j[3])*(i[3] - j[3])\n",
    "            dist = math.sqrt(dist)\n",
    "            distances.append(dist)\n",
    "        knn_y_labels.append(y_train[np.argsort(np.array(distances))[:k]])\n",
    "    return np.array(st.mode(np.array(knn_y_labels), axis = 1))[0]\n",
    "\n",
    "accuracies = []\n",
    "k_max = 50\n",
    "for k in range(1, k_max):\n",
    "    y_predicted = knn_classifier(k)\n",
    "    accuracy = np.mean(y_test[:, np.newaxis] == y_predicted)\n",
    "    accuracies.append(accuracy)\n",
    "    print(\"k =\", k, \", accuracy =\", accuracy)\n",
    "\n",
    "plt.plot(np.arange(1, k_max, 1), accuracies)\n",
    "plt.xlabel(\"k\")\n",
    "plt.ylabel(\"Accuracy\")\n",
    "plt.show()"
   ]
  },
  {
   "cell_type": "markdown",
   "id": "1c3ac0ca",
   "metadata": {},
   "source": [
    "### Questions\n",
    "\n",
    "1) What are the Advantages and Disadvantages of KNN algorithm?<br>\n",
    "2) What is the complexity of the KNN algorithm during Training and Testing?<br> \n",
    "3) Is euclidian distance the only distance metric used in KNN? \n",
    "4) what K value gave the best accuracy?"
   ]
  },
  {
   "cell_type": "markdown",
   "id": "47958869",
   "metadata": {},
   "source": [
    "#### 1) What are the Advantages and Disadvantages of KNN algorithm?\n",
    "The advantages are as follows:\n",
    "<ol>\n",
    "    <li> It is easy to understand and very straightforward to implement. </li>\n",
    "    <li> Since there is only a single hyperparameter (k), analysis and tuning is extremely simple. </li>\n",
    "    <li> It doesn't require training. Thus, adding new data doesn't affect the algorithm too much. </li>\n",
    "</ol>\n",
    "The disadvantages are as follows:\n",
    "<ol>\n",
    "    <li> The time complexity for simple KNN algorithm is not optimum and this makes it not the most efficient algorithm. </li>\n",
    "    <li> The accuracy decreases as k increases as observed. </li>\n",
    "    <li> The presence of outliers can significantly impact the class boundaries. </li>\n",
    "    <li> Lower k has low bias and high variance while high k will have the opposite. </li>\n",
    "    <li> The distance metric chosen, coupled with higher dimensional data, can potentially have a high degree of influence on the model performance. </li>\n",
    "</ol>\n",
    "\n",
    "#### 2) What is the complexity of the KNN algorithm during Training and Testing?\n",
    "Training:\n",
    "<ul>\n",
    "    <li> Time Complexity and Space Complexity: $O(1)$ since no processing or space is required for the training data.</li>\n",
    "</ul>\n",
    "Testing:\n",
    "<ul>\n",
    "    <li> Time Complexity: $O(nd + n \\log n)$ since calculating distance between the test point and each training point takes $O(nd)$ time and sorting and taking mode of first k distances takes $O(n \\log n)$. </li>\n",
    "    <li> Space Complexity: $O(n)$ since it takes that much space to store distances of all training points from test point. </li>\n",
    "</ul>\n",
    "\n",
    "#### 3) Is euclidian distance the only distance metric used in KNN?\n",
    "No, euclidean distance is one of many distances that can be used as the distance metric for KNN algorithm. Other distances include Manhattan distance $(d = |x_i - y_i|)$ and Minkowski distance $(d = \\sum_{i=1}^n{|x_i^p - y_i^p|})^{1/p})$\n",
    "\n",
    "#### 4) what K value gave the best accuracy?\n",
    "THe accuracy fluctuates a lot at lower values of k. This is due to its sensitivity to noise.The accuracy is 100% for all values from k=1 to k = 25 except at k = 2, k = 3 and k = 5. Looking at the fact that higher values of k give high bias and low variance, we can say that the value of k that gives best accuracy along with nearly optimal bias and variance is k = 6."
   ]
  },
  {
   "cell_type": "code",
   "execution_count": null,
   "metadata": {},
   "outputs": [],
   "source": []
  }
 ],
 "metadata": {
  "kernelspec": {
   "display_name": "Python 3",
   "language": "python",
   "name": "python3"
  },
  "language_info": {
   "codemirror_mode": {
    "name": "ipython",
    "version": 3
   },
   "file_extension": ".py",
   "mimetype": "text/x-python",
   "name": "python",
   "nbconvert_exporter": "python",
   "pygments_lexer": "ipython3",
   "version": "3.8.10"
  }
 },
 "nbformat": 4,
 "nbformat_minor": 5
}
